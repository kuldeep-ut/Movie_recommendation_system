{
 "cells": [
  {
   "cell_type": "code",
   "execution_count": 2,
   "metadata": {},
   "outputs": [],
   "source": [
    "import pandas as pd\n",
    "import seaborn as sns\n",
    "import matplotlib.pyplot as plt\n",
    "import warnings\n",
    "warnings.filterwarnings('ignore')"
   ]
  },
  {
   "cell_type": "code",
   "execution_count": 13,
   "metadata": {},
   "outputs": [],
   "source": [
    "columns_names=[\"user_id\", \"item_id\", \"rating\", \"timestamp\"]\n",
    "df=pd.read_csv(\"u.data\", sep=\"\\t\", names=columns_names)\n",
    "# We use 'sep' here because u.data is a tsv(tab sep value) file\n",
    "movies_titles=pd.read_csv(\"u.item\",sep=\"\\|\", header=None, engine='python')\n",
    "# Here i'm providig engine='python' because 'c' engine does not support regex separators  \n",
    "# print(movies_titles)\n",
    "movies_titles=movies_titles[[0,1]]\n",
    "\n",
    "movies_titles.columns=['item_id','title']\n",
    "#print(movies_titles.head())\n",
    "df= pd.merge(df, movies_titles, on=\"item_id\")\n",
    "# Merge the movies_titles dataframe with df on the item_id\n",
    "#print(df)"
   ]
  },
  {
   "cell_type": "code",
   "execution_count": 4,
   "metadata": {},
   "outputs": [],
   "source": [
    "sns.set_style('white')"
   ]
  },
  {
   "cell_type": "code",
   "execution_count": 12,
   "metadata": {
    "scrolled": true
   },
   "outputs": [
    {
     "name": "stdout",
     "output_type": "stream",
     "text": [
      "                                 Correlation  nums_of_ratings\n",
      "title                                                        \n",
      "River Wild, The (1994)              1.000000              146\n",
      "Kiss the Girls (1997)               0.744500              143\n",
      "Young Guns (1988)                   0.662424              101\n",
      "Seven Years in Tibet (1997)         0.640866              155\n",
      "My Best Friend's Wedding (1997)     0.576746              172\n"
     ]
    }
   ],
   "source": [
    "df2=df.groupby('title').mean()['rating'].sort_values(ascending=False)\n",
    "# Group by title and take the mean of rating and then sort these values in Descending order\n",
    "#print(df2)\n",
    "# So there may be a movie which rated by only one user and let say rated value is 5 so mean is also 5 which is not fair\n",
    "# Now we take how many times a movie rated\n",
    "df3=df.groupby('title').count()['rating'].sort_values(ascending=False)\n",
    "# made a dataFrame of rating\n",
    "ratings=pd.DataFrame(df.groupby('title').mean()['rating'])\n",
    "# Add a column nums_of_ratings \n",
    "ratings['nums_of_ratings']=pd.DataFrame(df.groupby('title').count()['rating'])\n",
    "ratings=ratings.sort_values(by='rating', ascending=False)\n",
    "#plt.figure(figsize=(10,6))\n",
    "#plt.hist(ratings['rating'], bins=70)\n",
    "#plt.show()\n",
    "# Draw a joint plot of ratings and num_of_ratings\n",
    "#sn1=sns.jointplot(x='rating', y='nums_of_ratings', data=ratings, alpha=0.5)\n",
    "\n",
    "moviemat=df.pivot_table(index=\"user_id\", columns=\"title\", values=\"rating\")\n",
    "#print(moviemat)\n",
    "# Movie Matrix basically consist of user id and movie ratings\n",
    "ratings=ratings.sort_values('nums_of_ratings',ascending=False)\n",
    "# starwar_user_ratings=moviemat['Star Wars (1977)']\n",
    "# #print(starwar_user_ratings)\n",
    "# similar_to_startwars=moviemat.corrwith(starwar_user_ratings)\n",
    "# corr_StarWars=pd.DataFrame(similar_to_startwars, columns=['Correlation'])\n",
    "# #print(corr_StarWars)\n",
    "# #Drop the NaN values\n",
    "# corr_StarWars.dropna(inplace=True)\n",
    "# corr_StarWars=corr_StarWars.sort_values('Correlation', ascending=False)\n",
    "# #print(corr_StarWars)\n",
    "# corr_StarWars=corr_StarWars.join(ratings['nums_of_ratings'])\n",
    "# corr_StarWars=corr_StarWars[corr_StarWars['nums_of_ratings'] > 100].sort_values('Correlation', ascending=False)\n",
    "#print(corr_StarWars)\n",
    "def predict_movies(movie_name):\n",
    "    movie_user_ratings=moviemat[movie_name]\n",
    "    similar_to_movie=moviemat.corrwith(movie_user_ratings)\n",
    "    corr_movie = pd.DataFrame(similar_to_movie, columns=['Correlation'])\n",
    "    corr_movie.dropna(inplace=True)\n",
    "    #corr_movie = corr_movie.sort_values('Correlation', ascending=False)\n",
    "    corr_movie = corr_movie.join(ratings['nums_of_ratings'])\n",
    "    predictions=corr_movie[corr_movie['nums_of_ratings'] > 100].sort_values('Correlation', ascending=False)\n",
    "    return predictions\n",
    "prediction=predict_movies(\"River Wild, The (1994)\")\n",
    "print(prediction.head())"
   ]
  },
  {
   "cell_type": "code",
   "execution_count": null,
   "metadata": {},
   "outputs": [],
   "source": []
  },
  {
   "cell_type": "code",
   "execution_count": null,
   "metadata": {},
   "outputs": [],
   "source": []
  },
  {
   "cell_type": "markdown",
   "metadata": {},
   "source": [
    "# End of the project"
   ]
  },
  {
   "cell_type": "code",
   "execution_count": null,
   "metadata": {},
   "outputs": [],
   "source": []
  }
 ],
 "metadata": {
  "kernelspec": {
   "display_name": "Python 3",
   "language": "python",
   "name": "python3"
  },
  "language_info": {
   "codemirror_mode": {
    "name": "ipython",
    "version": 3
   },
   "file_extension": ".py",
   "mimetype": "text/x-python",
   "name": "python",
   "nbconvert_exporter": "python",
   "pygments_lexer": "ipython3",
   "version": "3.7.6"
  }
 },
 "nbformat": 4,
 "nbformat_minor": 4
}
